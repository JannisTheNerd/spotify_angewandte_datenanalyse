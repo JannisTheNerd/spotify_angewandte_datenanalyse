{
 "cells": [
  {
   "cell_type": "markdown",
   "id": "c5976442",
   "metadata": {},
   "source": []
  },
  {
   "cell_type": "code",
   "execution_count": 1,
   "id": "29eb76b1",
   "metadata": {},
   "outputs": [],
   "source": [
    "import os\n",
    "import pandas as pd\n",
    "import numpy as np"
   ]
  },
  {
   "cell_type": "code",
   "execution_count": null,
   "id": "9d2f1e69",
   "metadata": {},
   "outputs": [],
   "source": [
    "data_path = \"data/spotify.csv\"\n",
    "try:\n",
    "    df = pd.read_csv(data_path)\n",
    "except:\n",
    "    # Achtung der Pfad \"../../../_Daten\" muss existieren.\n",
    "    import kagglehub\n",
    "    import shutil\n",
    "    # Download latest version\n",
    "    path = kagglehub.dataset_download(\"atharvasoundankar/spotify-global-streaming-data-2024\")\n",
    "    \n",
    "    # Get the first file in path\n",
    "    files = os.listdir(path)\n",
    "    if len(files) == 0:\n",
    "        raise ValueError(\"No files found in the downloaded dataset.\")\n",
    "    # Check if the data directory exists, if not create it\n",
    "    if not os.path.exists(\"data\"):\n",
    "        os.makedirs(\"data\")\n",
    "\n",
    "    # Move the downloaded file to the desired directory\n",
    "    shutil.move(os.path.join(path, files[0]), data_path)\n",
    "\n",
    "    print(\"Diabetes dataset downloaded successfully!\")"
   ]
  }
 ],
 "metadata": {
  "kernelspec": {
   "display_name": ".venv",
   "language": "python",
   "name": "python3"
  },
  "language_info": {
   "codemirror_mode": {
    "name": "ipython",
    "version": 3
   },
   "file_extension": ".py",
   "mimetype": "text/x-python",
   "name": "python",
   "nbconvert_exporter": "python",
   "pygments_lexer": "ipython3",
   "version": "3.12.1"
  }
 },
 "nbformat": 4,
 "nbformat_minor": 5
}
